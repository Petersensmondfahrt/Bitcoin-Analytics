{
 "cells": [
  {
   "cell_type": "markdown",
   "id": "c622f2e5-f903-4867-a62b-488543b01ccf",
   "metadata": {},
   "source": [
    "# Data Cleaning"
   ]
  },
  {
   "cell_type": "code",
   "execution_count": 2,
   "id": "2cbec0af-e0ba-4213-9a65-974d8cfceb01",
   "metadata": {},
   "outputs": [],
   "source": [
    "# Importing libraries\n",
    "\n",
    "import pandas as pd\n",
    "import numpy as np\n",
    "import os\n",
    "import matplotlib.pyplot as plt\n",
    "import statsmodels.api as sm"
   ]
  },
  {
   "cell_type": "code",
   "execution_count": 75,
   "id": "a4398798-3dee-4ad5-9052-b0c597340799",
   "metadata": {},
   "outputs": [],
   "source": [
    "# importing bitcoin price data\n",
    "btc = pd.read_csv(r'/Users/davidscheider/anaconda_projects/Bitcoin Analytics/02 Data/Original Data/btcusd_1-min_data.csv', index_col = False)"
   ]
  },
  {
   "cell_type": "code",
   "execution_count": 4,
   "id": "bf91b6de-54d4-446f-946f-0eb2627b30c7",
   "metadata": {},
   "outputs": [
    {
     "name": "stdout",
     "output_type": "stream",
     "text": [
      "Index(['Timestamp', 'Open', 'High', 'Low', 'Close', 'Volume'], dtype='object')\n"
     ]
    }
   ],
   "source": [
    "print(btc.columns)"
   ]
  },
  {
   "cell_type": "code",
   "execution_count": 5,
   "id": "964dad25-1b76-482e-a137-cd1cc2670e2a",
   "metadata": {},
   "outputs": [
    {
     "data": {
      "text/plain": [
       "<bound method NDFrame.head of             Timestamp       Open       High        Low      Close    Volume\n",
       "0        1.325412e+09       4.58       4.58       4.58       4.58  0.000000\n",
       "1        1.325412e+09       4.58       4.58       4.58       4.58  0.000000\n",
       "2        1.325412e+09       4.58       4.58       4.58       4.58  0.000000\n",
       "3        1.325412e+09       4.58       4.58       4.58       4.58  0.000000\n",
       "4        1.325412e+09       4.58       4.58       4.58       4.58  0.000000\n",
       "...               ...        ...        ...        ...        ...       ...\n",
       "7222712  1.758844e+09  109006.00  109010.00  108975.00  108992.00  0.973164\n",
       "7222713  1.758844e+09  108983.00  109006.00  108976.00  108979.00  1.169891\n",
       "7222714  1.758844e+09  108981.00  108981.00  108909.00  108953.00  0.805693\n",
       "7222715  1.758845e+09  108975.00  109039.00  108975.00  109039.00  0.319103\n",
       "7222716  1.758845e+09  109045.00  109064.00  109042.00  109043.00  0.082596\n",
       "\n",
       "[7222717 rows x 6 columns]>"
      ]
     },
     "execution_count": 5,
     "metadata": {},
     "output_type": "execute_result"
    }
   ],
   "source": [
    "btc.head"
   ]
  },
  {
   "cell_type": "markdown",
   "id": "f8219f8d-2f83-4ec4-b24f-b18c0c2f4f51",
   "metadata": {},
   "source": [
    "# Data Cleaning btc"
   ]
  },
  {
   "cell_type": "code",
   "execution_count": 8,
   "id": "a928fa2f-0448-436a-bf39-0ba5a6f98bca",
   "metadata": {},
   "outputs": [
    {
     "data": {
      "text/plain": [
       "Timestamp    0\n",
       "Open         0\n",
       "High         0\n",
       "Low          0\n",
       "Close        0\n",
       "Volume       0\n",
       "dtype: int64"
      ]
     },
     "execution_count": 8,
     "metadata": {},
     "output_type": "execute_result"
    }
   ],
   "source": [
    "# Check for missing values\n",
    "btc.isnull().sum()"
   ]
  },
  {
   "cell_type": "code",
   "execution_count": 10,
   "id": "4434bea3-c538-47a6-bda1-bd13f7b6fe71",
   "metadata": {},
   "outputs": [
    {
     "data": {
      "text/plain": [
       "0"
      ]
     },
     "execution_count": 10,
     "metadata": {},
     "output_type": "execute_result"
    }
   ],
   "source": [
    "# Check for duplicates\n",
    "btc.duplicated().sum()"
   ]
  },
  {
   "cell_type": "code",
   "execution_count": 27,
   "id": "b6b3495f-e4bc-40d9-a75e-7e542f7f7673",
   "metadata": {},
   "outputs": [],
   "source": [
    "# convert to datetime\n",
    "btc['Timestamp'] = pd.to_datetime(btc['Timestamp'])"
   ]
  },
  {
   "cell_type": "code",
   "execution_count": 78,
   "id": "0e08e809-f207-4348-9b07-c03f35da1a3f",
   "metadata": {},
   "outputs": [],
   "source": [
    "# export btc\n",
    "btc.to_csv(\"/Users/davidscheider/anaconda_projects/Bitcoin Analytics/02 Data/Prepared Data/btc_clean.csv\", index=False)"
   ]
  },
  {
   "cell_type": "markdown",
   "id": "1ec21758-e116-4667-9f9b-0f53e88dceac",
   "metadata": {},
   "source": [
    "# Import treasury yields data frame"
   ]
  },
  {
   "cell_type": "code",
   "execution_count": 51,
   "id": "c972fe00-5c02-4f75-9399-614d501d8569",
   "metadata": {},
   "outputs": [],
   "source": [
    "# importing new data frame 10 year treasury yields\n",
    "yields = pd.read_csv(r'/Users/davidscheider/anaconda_projects/Bitcoin Analytics/02 Data/Original Data/DGS10.csv', index_col = False)"
   ]
  },
  {
   "cell_type": "code",
   "execution_count": 52,
   "id": "cb91cc92-e379-4a55-875f-6e083c074a17",
   "metadata": {},
   "outputs": [
    {
     "name": "stdout",
     "output_type": "stream",
     "text": [
      "Index(['observation_date', 'DGS10'], dtype='object')\n"
     ]
    }
   ],
   "source": [
    "print(yields.columns)"
   ]
  },
  {
   "cell_type": "code",
   "execution_count": 53,
   "id": "59827cd6-4ffe-40e9-9180-d61d43a32fb5",
   "metadata": {},
   "outputs": [
    {
     "name": "stdout",
     "output_type": "stream",
     "text": [
      "observation_date     object\n",
      "DGS10               float64\n",
      "dtype: object\n",
      "  observation_date  DGS10\n",
      "0       2015-09-25   2.17\n",
      "1       2015-09-28   2.10\n",
      "2       2015-09-29   2.05\n",
      "3       2015-09-30   2.06\n",
      "4       2015-10-01   2.05\n"
     ]
    }
   ],
   "source": [
    "# Check if yields are float\n",
    "print(yields.dtypes)\n",
    "print(yields.head())"
   ]
  },
  {
   "cell_type": "code",
   "execution_count": 54,
   "id": "e5e532aa-c2ce-4129-9ecc-72740b09a2d3",
   "metadata": {},
   "outputs": [
    {
     "data": {
      "text/plain": [
       "observation_date      0\n",
       "DGS10               110\n",
       "dtype: int64"
      ]
     },
     "execution_count": 54,
     "metadata": {},
     "output_type": "execute_result"
    }
   ],
   "source": [
    "# Check for missing values\n",
    "yields.isnull().sum()"
   ]
  },
  {
   "cell_type": "code",
   "execution_count": 55,
   "id": "b14b982f-a029-4793-b836-16bec656cade",
   "metadata": {},
   "outputs": [
    {
     "name": "stderr",
     "output_type": "stream",
     "text": [
      "/var/folders/bz/7hwgnc95287cp83lwy4gfzth0000gn/T/ipykernel_40225/910887328.py:2: FutureWarning: Series.fillna with 'method' is deprecated and will raise in a future version. Use obj.ffill() or obj.bfill() instead.\n",
      "  yields['DGS10'] = yields['DGS10'].fillna(method='ffill')\n"
     ]
    }
   ],
   "source": [
    "# forward fill missing values\n",
    "yields['DGS10'] = yields['DGS10'].fillna(method='ffill')"
   ]
  },
  {
   "cell_type": "code",
   "execution_count": 56,
   "id": "c443b56b-b5f6-46a8-a2d2-7119714570ec",
   "metadata": {},
   "outputs": [
    {
     "name": "stdout",
     "output_type": "stream",
     "text": [
      "   observation_date  DGS10\n",
      "0        2015-09-25   2.17\n",
      "1        2015-09-28   2.10\n",
      "2        2015-09-29   2.05\n",
      "3        2015-09-30   2.06\n",
      "4        2015-10-01   2.05\n",
      "5        2015-10-02   1.99\n",
      "6        2015-10-05   2.07\n",
      "7        2015-10-06   2.05\n",
      "8        2015-10-07   2.08\n",
      "9        2015-10-08   2.12\n",
      "10       2015-10-09   2.12\n",
      "11       2015-10-12   2.12\n",
      "12       2015-10-13   2.06\n",
      "13       2015-10-14   1.99\n",
      "14       2015-10-15   2.04\n",
      "15       2015-10-16   2.04\n",
      "16       2015-10-19   2.04\n",
      "17       2015-10-20   2.08\n",
      "18       2015-10-21   2.04\n",
      "19       2015-10-22   2.04\n"
     ]
    }
   ],
   "source": [
    "# Check if only weekdays have values\n",
    "print(yields.head(20))"
   ]
  },
  {
   "cell_type": "code",
   "execution_count": 57,
   "id": "bb1ccb0a-92b1-4ede-a622-49f1279bfa9c",
   "metadata": {},
   "outputs": [],
   "source": [
    "# convert to datetime\n",
    "yields['observation_date'] = pd.to_datetime(yields['observation_date'])"
   ]
  },
  {
   "cell_type": "code",
   "execution_count": 58,
   "id": "9440986c-89b0-4a96-ac7e-d9be95cf0c10",
   "metadata": {},
   "outputs": [],
   "source": [
    "# Resample to daily frequency\n",
    "yields = yields.set_index('observation_date').resample('D').ffill().reset_index()"
   ]
  },
  {
   "cell_type": "code",
   "execution_count": 59,
   "id": "fbb1284e-b705-47dc-a19b-05a89f195b1d",
   "metadata": {},
   "outputs": [
    {
     "name": "stdout",
     "output_type": "stream",
     "text": [
      "   observation_date  DGS10\n",
      "0        2015-09-25   2.17\n",
      "1        2015-09-26   2.17\n",
      "2        2015-09-27   2.17\n",
      "3        2015-09-28   2.10\n",
      "4        2015-09-29   2.05\n",
      "5        2015-09-30   2.06\n",
      "6        2015-10-01   2.05\n",
      "7        2015-10-02   1.99\n",
      "8        2015-10-03   1.99\n",
      "9        2015-10-04   1.99\n",
      "10       2015-10-05   2.07\n",
      "11       2015-10-06   2.05\n",
      "12       2015-10-07   2.08\n",
      "13       2015-10-08   2.12\n",
      "14       2015-10-09   2.12\n",
      "15       2015-10-10   2.12\n",
      "16       2015-10-11   2.12\n",
      "17       2015-10-12   2.12\n",
      "18       2015-10-13   2.06\n",
      "19       2015-10-14   1.99\n"
     ]
    }
   ],
   "source": [
    "print(yields.head(20))"
   ]
  },
  {
   "cell_type": "code",
   "execution_count": 60,
   "id": "783a83e9-669e-4ceb-8005-d4acdb522a62",
   "metadata": {},
   "outputs": [
    {
     "data": {
      "text/plain": [
       "0"
      ]
     },
     "execution_count": 60,
     "metadata": {},
     "output_type": "execute_result"
    }
   ],
   "source": [
    "# check for duplicates\n",
    "yields.duplicated().sum()"
   ]
  },
  {
   "cell_type": "code",
   "execution_count": 77,
   "id": "3fe78e21-e800-4dcf-97d5-55793589ee1e",
   "metadata": {},
   "outputs": [],
   "source": [
    "# export yields_clean\n",
    "yields.to_csv(\"/Users/davidscheider/anaconda_projects/Bitcoin Analytics/02 Data/Prepared Data/yields_clean.csv\", index=False)"
   ]
  },
  {
   "cell_type": "markdown",
   "id": "5f0ec16d-9483-4bd2-bcb5-80b48c87d95b",
   "metadata": {},
   "source": [
    "# Importing google trends geo data frame"
   ]
  },
  {
   "cell_type": "code",
   "execution_count": 45,
   "id": "86709a96-5c1a-41c5-be11-9b28a3171174",
   "metadata": {},
   "outputs": [
    {
     "name": "stderr",
     "output_type": "stream",
     "text": [
      "/var/folders/bz/7hwgnc95287cp83lwy4gfzth0000gn/T/ipykernel_40225/4011971241.py:2: ParserWarning: Length of header or names does not match length of data. This leads to a loss of data with index_col=False.\n",
      "  google = pd.read_csv(r'/Users/davidscheider/anaconda_projects/Bitcoin Analytics/02 Data/Original Data/geoMap.csv', index_col = False)\n"
     ]
    }
   ],
   "source": [
    "# importing new data frame google trends\n",
    "google = pd.read_csv(r'/Users/davidscheider/anaconda_projects/Bitcoin Analytics/02 Data/Original Data/geoMap.csv', index_col = False)"
   ]
  },
  {
   "cell_type": "code",
   "execution_count": 46,
   "id": "fd83ef39-f546-485a-af70-fd1ddf24db2b",
   "metadata": {},
   "outputs": [
    {
     "name": "stdout",
     "output_type": "stream",
     "text": [
      "   Kategorie: Alle Kategorien\n",
      "0                        Land\n",
      "1                 El Salvador\n",
      "2               Liechtenstein\n",
      "3                     Schweiz\n",
      "4                  Österreich\n",
      "5                   Slowenien\n",
      "6                 Niederlande\n",
      "7                     Nigeria\n",
      "8                 Deutschland\n",
      "9                     Andorra\n",
      "10                    Curaçao\n",
      "11                    Bermuda\n",
      "12               Kaimaninseln\n",
      "13               Sint Maarten\n",
      "14                     Färöer\n",
      "15                     Bhutan\n",
      "16     Karibische Niederlande\n",
      "17                     Island\n",
      "18    St. Pierre und Miquelon\n",
      "19                  Luxemburg\n"
     ]
    }
   ],
   "source": [
    "print(google.head(20))"
   ]
  },
  {
   "cell_type": "code",
   "execution_count": 47,
   "id": "45604424-88ad-436e-bafc-fc8e65f80ee4",
   "metadata": {},
   "outputs": [
    {
     "name": "stdout",
     "output_type": "stream",
     "text": [
      "Kategorie: Alle Kategorien    object\n",
      "dtype: object\n",
      "  Kategorie: Alle Kategorien\n",
      "0                       Land\n",
      "1                El Salvador\n",
      "2              Liechtenstein\n",
      "3                    Schweiz\n",
      "4                 Österreich\n"
     ]
    }
   ],
   "source": [
    "print(google.dtypes)\n",
    "print(google.head())"
   ]
  },
  {
   "cell_type": "code",
   "execution_count": 48,
   "id": "c98faf4d-ea30-4a01-afe7-cda240223053",
   "metadata": {},
   "outputs": [
    {
     "data": {
      "text/plain": [
       "Kategorie: Alle Kategorien    0\n",
       "dtype: int64"
      ]
     },
     "execution_count": 48,
     "metadata": {},
     "output_type": "execute_result"
    }
   ],
   "source": [
    "google.isnull().sum()"
   ]
  },
  {
   "cell_type": "code",
   "execution_count": 79,
   "id": "a212a145-27c2-49ad-b6a4-dc239229e47a",
   "metadata": {},
   "outputs": [],
   "source": [
    "# export google trends\n",
    "google.to_csv(\"/Users/davidscheider/anaconda_projects/Bitcoin Analytics/02 Data/Prepared Data/google_clean.csv\", index=False)"
   ]
  },
  {
   "cell_type": "markdown",
   "id": "4e92c479-ff04-44ae-b3a8-eec98c982ca5",
   "metadata": {},
   "source": [
    "# Importing M2 seasonally adjusted"
   ]
  },
  {
   "cell_type": "code",
   "execution_count": 63,
   "id": "1908be65-7da8-4ea2-9a63-159a6d2a369c",
   "metadata": {},
   "outputs": [],
   "source": [
    "# importing new data frame M2 money supply\n",
    "m2 = pd.read_csv(r'/Users/davidscheider/anaconda_projects/Bitcoin Analytics/02 Data/Original Data/M2SL.csv', index_col = False)"
   ]
  },
  {
   "cell_type": "code",
   "execution_count": 65,
   "id": "009f6805-7d10-4ac4-93e9-6825b3ad267f",
   "metadata": {},
   "outputs": [
    {
     "name": "stdout",
     "output_type": "stream",
     "text": [
      "   observation_date     M2SL\n",
      "0        2015-08-01  12093.7\n",
      "1        2015-09-01  12154.8\n",
      "2        2015-10-01  12206.1\n",
      "3        2015-11-01  12297.5\n",
      "4        2015-12-01  12368.7\n",
      "5        2016-01-01  12506.0\n",
      "6        2016-02-01  12578.2\n",
      "7        2016-03-01  12629.0\n",
      "8        2016-04-01  12708.0\n",
      "9        2016-05-01  12775.0\n",
      "10       2016-06-01  12835.4\n",
      "11       2016-07-01  12889.7\n",
      "12       2016-08-01  12973.9\n",
      "13       2016-09-01  13034.2\n",
      "14       2016-10-01  13107.5\n",
      "15       2016-11-01  13181.0\n",
      "16       2016-12-01  13226.1\n",
      "17       2017-01-01  13300.7\n",
      "18       2017-02-01  13367.3\n",
      "19       2017-03-01  13428.7\n"
     ]
    }
   ],
   "source": [
    "print(m2.head(20))"
   ]
  },
  {
   "cell_type": "code",
   "execution_count": 67,
   "id": "8997a71d-0f3e-4330-b9fa-cd0dfb2c60f3",
   "metadata": {},
   "outputs": [],
   "source": [
    "# tranfer observation_date to datetime\n",
    "m2['observation_date'] = pd.to_datetime(m2['observation_date'])"
   ]
  },
  {
   "cell_type": "code",
   "execution_count": 68,
   "id": "85a0d038-3013-43be-968c-8f76c26ba878",
   "metadata": {},
   "outputs": [
    {
     "data": {
      "text/plain": [
       "observation_date    0\n",
       "M2SL                0\n",
       "dtype: int64"
      ]
     },
     "execution_count": 68,
     "metadata": {},
     "output_type": "execute_result"
    }
   ],
   "source": [
    "# check for missing values\n",
    "m2.isnull().sum()"
   ]
  },
  {
   "cell_type": "code",
   "execution_count": 69,
   "id": "afc48eb6-0bbb-4967-bc6e-9e9f73aea269",
   "metadata": {},
   "outputs": [],
   "source": [
    "m2 = m2.drop_duplicates(subset=['observation_date'])"
   ]
  },
  {
   "cell_type": "code",
   "execution_count": 70,
   "id": "3e12ebf4-25d4-4785-86db-11c05d7e2bc2",
   "metadata": {},
   "outputs": [],
   "source": [
    "# resample to daily values and impute missing ones\n",
    "m2_daily = m2.set_index('observation_date').resample('D').ffill().reset_index()"
   ]
  },
  {
   "cell_type": "code",
   "execution_count": 76,
   "id": "6436b0e3-fff8-4ed5-9380-43cc53da12e1",
   "metadata": {},
   "outputs": [],
   "source": [
    "# export m2_daily\n",
    "m2_daily.to_csv(\"/Users/davidscheider/anaconda_projects/Bitcoin Analytics/02 Data/Prepared Data/m2_clean.csv\", index=False)"
   ]
  },
  {
   "cell_type": "markdown",
   "id": "65f015b6-9142-4325-bd68-a72618924426",
   "metadata": {},
   "source": [
    "# Importing new data frame S&P 500"
   ]
  },
  {
   "cell_type": "code",
   "execution_count": 80,
   "id": "0f392bb0-84e6-482c-8aac-3a2cd8724a01",
   "metadata": {},
   "outputs": [],
   "source": [
    "# importing new data frame S&P500\n",
    "sp = pd.read_csv(r'/Users/davidscheider/anaconda_projects/Bitcoin Analytics/02 Data/Original Data/SP500.csv', index_col = False)"
   ]
  },
  {
   "cell_type": "code",
   "execution_count": 81,
   "id": "3a2756eb-bc7f-42b2-82c9-b97b5064b7ad",
   "metadata": {},
   "outputs": [
    {
     "data": {
      "text/html": [
       "<div>\n",
       "<style scoped>\n",
       "    .dataframe tbody tr th:only-of-type {\n",
       "        vertical-align: middle;\n",
       "    }\n",
       "\n",
       "    .dataframe tbody tr th {\n",
       "        vertical-align: top;\n",
       "    }\n",
       "\n",
       "    .dataframe thead th {\n",
       "        text-align: right;\n",
       "    }\n",
       "</style>\n",
       "<table border=\"1\" class=\"dataframe\">\n",
       "  <thead>\n",
       "    <tr style=\"text-align: right;\">\n",
       "      <th></th>\n",
       "      <th>observation_date</th>\n",
       "      <th>SP500</th>\n",
       "    </tr>\n",
       "  </thead>\n",
       "  <tbody>\n",
       "    <tr>\n",
       "      <th>0</th>\n",
       "      <td>2015-09-28</td>\n",
       "      <td>1881.77</td>\n",
       "    </tr>\n",
       "    <tr>\n",
       "      <th>1</th>\n",
       "      <td>2015-09-29</td>\n",
       "      <td>1884.09</td>\n",
       "    </tr>\n",
       "    <tr>\n",
       "      <th>2</th>\n",
       "      <td>2015-09-30</td>\n",
       "      <td>1920.03</td>\n",
       "    </tr>\n",
       "    <tr>\n",
       "      <th>3</th>\n",
       "      <td>2015-10-01</td>\n",
       "      <td>1923.82</td>\n",
       "    </tr>\n",
       "    <tr>\n",
       "      <th>4</th>\n",
       "      <td>2015-10-02</td>\n",
       "      <td>1951.36</td>\n",
       "    </tr>\n",
       "    <tr>\n",
       "      <th>5</th>\n",
       "      <td>2015-10-05</td>\n",
       "      <td>1987.05</td>\n",
       "    </tr>\n",
       "    <tr>\n",
       "      <th>6</th>\n",
       "      <td>2015-10-06</td>\n",
       "      <td>1979.92</td>\n",
       "    </tr>\n",
       "    <tr>\n",
       "      <th>7</th>\n",
       "      <td>2015-10-07</td>\n",
       "      <td>1995.83</td>\n",
       "    </tr>\n",
       "    <tr>\n",
       "      <th>8</th>\n",
       "      <td>2015-10-08</td>\n",
       "      <td>2013.43</td>\n",
       "    </tr>\n",
       "    <tr>\n",
       "      <th>9</th>\n",
       "      <td>2015-10-09</td>\n",
       "      <td>2014.89</td>\n",
       "    </tr>\n",
       "    <tr>\n",
       "      <th>10</th>\n",
       "      <td>2015-10-12</td>\n",
       "      <td>2017.46</td>\n",
       "    </tr>\n",
       "    <tr>\n",
       "      <th>11</th>\n",
       "      <td>2015-10-13</td>\n",
       "      <td>2003.69</td>\n",
       "    </tr>\n",
       "    <tr>\n",
       "      <th>12</th>\n",
       "      <td>2015-10-14</td>\n",
       "      <td>1994.24</td>\n",
       "    </tr>\n",
       "    <tr>\n",
       "      <th>13</th>\n",
       "      <td>2015-10-15</td>\n",
       "      <td>2023.86</td>\n",
       "    </tr>\n",
       "    <tr>\n",
       "      <th>14</th>\n",
       "      <td>2015-10-16</td>\n",
       "      <td>2033.11</td>\n",
       "    </tr>\n",
       "    <tr>\n",
       "      <th>15</th>\n",
       "      <td>2015-10-19</td>\n",
       "      <td>2033.66</td>\n",
       "    </tr>\n",
       "    <tr>\n",
       "      <th>16</th>\n",
       "      <td>2015-10-20</td>\n",
       "      <td>2030.77</td>\n",
       "    </tr>\n",
       "    <tr>\n",
       "      <th>17</th>\n",
       "      <td>2015-10-21</td>\n",
       "      <td>2018.94</td>\n",
       "    </tr>\n",
       "    <tr>\n",
       "      <th>18</th>\n",
       "      <td>2015-10-22</td>\n",
       "      <td>2052.51</td>\n",
       "    </tr>\n",
       "    <tr>\n",
       "      <th>19</th>\n",
       "      <td>2015-10-23</td>\n",
       "      <td>2075.15</td>\n",
       "    </tr>\n",
       "  </tbody>\n",
       "</table>\n",
       "</div>"
      ],
      "text/plain": [
       "   observation_date    SP500\n",
       "0        2015-09-28  1881.77\n",
       "1        2015-09-29  1884.09\n",
       "2        2015-09-30  1920.03\n",
       "3        2015-10-01  1923.82\n",
       "4        2015-10-02  1951.36\n",
       "5        2015-10-05  1987.05\n",
       "6        2015-10-06  1979.92\n",
       "7        2015-10-07  1995.83\n",
       "8        2015-10-08  2013.43\n",
       "9        2015-10-09  2014.89\n",
       "10       2015-10-12  2017.46\n",
       "11       2015-10-13  2003.69\n",
       "12       2015-10-14  1994.24\n",
       "13       2015-10-15  2023.86\n",
       "14       2015-10-16  2033.11\n",
       "15       2015-10-19  2033.66\n",
       "16       2015-10-20  2030.77\n",
       "17       2015-10-21  2018.94\n",
       "18       2015-10-22  2052.51\n",
       "19       2015-10-23  2075.15"
      ]
     },
     "execution_count": 81,
     "metadata": {},
     "output_type": "execute_result"
    }
   ],
   "source": [
    "sp.head(20)"
   ]
  },
  {
   "cell_type": "code",
   "execution_count": 83,
   "id": "bff5d560-9674-44f2-bdb4-180282d67a59",
   "metadata": {},
   "outputs": [],
   "source": [
    "# change to datetime\n",
    "sp['observation_date'] = pd.to_datetime(sp['observation_date'])"
   ]
  },
  {
   "cell_type": "code",
   "execution_count": 85,
   "id": "181ffdda-ebce-4f90-8754-413787979a90",
   "metadata": {},
   "outputs": [
    {
     "data": {
      "text/plain": [
       "observation_date     0\n",
       "SP500               95\n",
       "dtype: int64"
      ]
     },
     "execution_count": 85,
     "metadata": {},
     "output_type": "execute_result"
    }
   ],
   "source": [
    "# check for missing values\n",
    "sp.isnull().sum()"
   ]
  },
  {
   "cell_type": "code",
   "execution_count": 86,
   "id": "20dcbfbb-a1d7-487d-a32b-5d345aa1ae55",
   "metadata": {},
   "outputs": [
    {
     "name": "stderr",
     "output_type": "stream",
     "text": [
      "/var/folders/bz/7hwgnc95287cp83lwy4gfzth0000gn/T/ipykernel_40225/3647749801.py:2: FutureWarning: DataFrame.fillna with 'method' is deprecated and will raise in a future version. Use obj.ffill() or obj.bfill() instead.\n",
      "  sp = sp.fillna(method='ffill')\n"
     ]
    }
   ],
   "source": [
    "# fill missing values\n",
    "sp = sp.fillna(method='ffill')"
   ]
  },
  {
   "cell_type": "code",
   "execution_count": 87,
   "id": "c014b759-30a7-4a17-a007-562f0740c4b3",
   "metadata": {},
   "outputs": [],
   "source": [
    "# resample to daily values\n",
    "sp500_daily = sp.set_index('observation_date').resample('D').ffill().reset_index()"
   ]
  },
  {
   "cell_type": "code",
   "execution_count": 88,
   "id": "685c851a-fa26-40b4-931e-a966266f4e66",
   "metadata": {},
   "outputs": [
    {
     "data": {
      "text/html": [
       "<div>\n",
       "<style scoped>\n",
       "    .dataframe tbody tr th:only-of-type {\n",
       "        vertical-align: middle;\n",
       "    }\n",
       "\n",
       "    .dataframe tbody tr th {\n",
       "        vertical-align: top;\n",
       "    }\n",
       "\n",
       "    .dataframe thead th {\n",
       "        text-align: right;\n",
       "    }\n",
       "</style>\n",
       "<table border=\"1\" class=\"dataframe\">\n",
       "  <thead>\n",
       "    <tr style=\"text-align: right;\">\n",
       "      <th></th>\n",
       "      <th>observation_date</th>\n",
       "      <th>SP500</th>\n",
       "    </tr>\n",
       "  </thead>\n",
       "  <tbody>\n",
       "    <tr>\n",
       "      <th>0</th>\n",
       "      <td>2015-09-28</td>\n",
       "      <td>1881.77</td>\n",
       "    </tr>\n",
       "    <tr>\n",
       "      <th>1</th>\n",
       "      <td>2015-09-29</td>\n",
       "      <td>1884.09</td>\n",
       "    </tr>\n",
       "    <tr>\n",
       "      <th>2</th>\n",
       "      <td>2015-09-30</td>\n",
       "      <td>1920.03</td>\n",
       "    </tr>\n",
       "    <tr>\n",
       "      <th>3</th>\n",
       "      <td>2015-10-01</td>\n",
       "      <td>1923.82</td>\n",
       "    </tr>\n",
       "    <tr>\n",
       "      <th>4</th>\n",
       "      <td>2015-10-02</td>\n",
       "      <td>1951.36</td>\n",
       "    </tr>\n",
       "    <tr>\n",
       "      <th>5</th>\n",
       "      <td>2015-10-03</td>\n",
       "      <td>1951.36</td>\n",
       "    </tr>\n",
       "    <tr>\n",
       "      <th>6</th>\n",
       "      <td>2015-10-04</td>\n",
       "      <td>1951.36</td>\n",
       "    </tr>\n",
       "    <tr>\n",
       "      <th>7</th>\n",
       "      <td>2015-10-05</td>\n",
       "      <td>1987.05</td>\n",
       "    </tr>\n",
       "    <tr>\n",
       "      <th>8</th>\n",
       "      <td>2015-10-06</td>\n",
       "      <td>1979.92</td>\n",
       "    </tr>\n",
       "    <tr>\n",
       "      <th>9</th>\n",
       "      <td>2015-10-07</td>\n",
       "      <td>1995.83</td>\n",
       "    </tr>\n",
       "    <tr>\n",
       "      <th>10</th>\n",
       "      <td>2015-10-08</td>\n",
       "      <td>2013.43</td>\n",
       "    </tr>\n",
       "    <tr>\n",
       "      <th>11</th>\n",
       "      <td>2015-10-09</td>\n",
       "      <td>2014.89</td>\n",
       "    </tr>\n",
       "    <tr>\n",
       "      <th>12</th>\n",
       "      <td>2015-10-10</td>\n",
       "      <td>2014.89</td>\n",
       "    </tr>\n",
       "    <tr>\n",
       "      <th>13</th>\n",
       "      <td>2015-10-11</td>\n",
       "      <td>2014.89</td>\n",
       "    </tr>\n",
       "    <tr>\n",
       "      <th>14</th>\n",
       "      <td>2015-10-12</td>\n",
       "      <td>2017.46</td>\n",
       "    </tr>\n",
       "    <tr>\n",
       "      <th>15</th>\n",
       "      <td>2015-10-13</td>\n",
       "      <td>2003.69</td>\n",
       "    </tr>\n",
       "    <tr>\n",
       "      <th>16</th>\n",
       "      <td>2015-10-14</td>\n",
       "      <td>1994.24</td>\n",
       "    </tr>\n",
       "    <tr>\n",
       "      <th>17</th>\n",
       "      <td>2015-10-15</td>\n",
       "      <td>2023.86</td>\n",
       "    </tr>\n",
       "    <tr>\n",
       "      <th>18</th>\n",
       "      <td>2015-10-16</td>\n",
       "      <td>2033.11</td>\n",
       "    </tr>\n",
       "    <tr>\n",
       "      <th>19</th>\n",
       "      <td>2015-10-17</td>\n",
       "      <td>2033.11</td>\n",
       "    </tr>\n",
       "  </tbody>\n",
       "</table>\n",
       "</div>"
      ],
      "text/plain": [
       "   observation_date    SP500\n",
       "0        2015-09-28  1881.77\n",
       "1        2015-09-29  1884.09\n",
       "2        2015-09-30  1920.03\n",
       "3        2015-10-01  1923.82\n",
       "4        2015-10-02  1951.36\n",
       "5        2015-10-03  1951.36\n",
       "6        2015-10-04  1951.36\n",
       "7        2015-10-05  1987.05\n",
       "8        2015-10-06  1979.92\n",
       "9        2015-10-07  1995.83\n",
       "10       2015-10-08  2013.43\n",
       "11       2015-10-09  2014.89\n",
       "12       2015-10-10  2014.89\n",
       "13       2015-10-11  2014.89\n",
       "14       2015-10-12  2017.46\n",
       "15       2015-10-13  2003.69\n",
       "16       2015-10-14  1994.24\n",
       "17       2015-10-15  2023.86\n",
       "18       2015-10-16  2033.11\n",
       "19       2015-10-17  2033.11"
      ]
     },
     "execution_count": 88,
     "metadata": {},
     "output_type": "execute_result"
    }
   ],
   "source": [
    "sp500_daily.head(20)"
   ]
  },
  {
   "cell_type": "code",
   "execution_count": 92,
   "id": "30b791fd-3229-476d-9939-868f0451215e",
   "metadata": {},
   "outputs": [
    {
     "data": {
      "image/png": "[encoded data removed]",
      "text/plain": [
       "<Figure size 1200x600 with 1 Axes>"
      ]
     },
     "metadata": {},
     "output_type": "display_data"
    }
   ],
   "source": [
    "# Check plot\n",
    "plt.figure(figsize=(12,6))\n",
    "plt.plot(sp500_daily['observation_date'], sp500_daily['SP500'], label='S&P 500 Close')\n",
    "plt.xlabel('Date')\n",
    "plt.ylabel('Index Value')\n",
    "plt.title('S&P 500')\n",
    "plt.grid(True)\n",
    "plt.legend()\n",
    "plt.show()"
   ]
  },
  {
   "cell_type": "code",
   "execution_count": 93,
   "id": "3d57d140-a6b7-4bdf-b6ff-5ed6d8c81a60",
   "metadata": {},
   "outputs": [],
   "source": [
    "# export sp500_daily\n",
    "sp500_daily.to_csv(\"/Users/davidscheider/anaconda_projects/Bitcoin Analytics/02 Data/Prepared Data/sp500_clean.csv\", index=False)"
   ]
  },
  {
   "cell_type": "markdown",
   "id": "05f8891d-8da1-4d59-807d-ec4338e7e190",
   "metadata": {},
   "source": [
    "# Importing new data frame Google Trends time serie"
   ]
  },
  {
   "cell_type": "code",
   "execution_count": 3,
   "id": "dcaca4ab-ef17-450a-a8bf-367840347117",
   "metadata": {
    "scrolled": true
   },
   "outputs": [
    {
     "name": "stderr",
     "output_type": "stream",
     "text": [
      "/var/folders/bz/7hwgnc95287cp83lwy4gfzth0000gn/T/ipykernel_72335/1066456424.py:2: ParserWarning: Length of header or names does not match length of data. This leads to a loss of data with index_col=False.\n",
      "  gtrends = pd.read_csv(r'/Users/davidscheider/anaconda_projects/Bitcoin Analytics/02 Data/Original Data/multiTimeline.csv', index_col = False)\n"
     ]
    }
   ],
   "source": [
    "# importing new data frame S&P500\n",
    "gtrends = pd.read_csv(r'/Users/davidscheider/anaconda_projects/Bitcoin Analytics/02 Data/Original Data/multiTimeline.csv', index_col = False)"
   ]
  },
  {
   "cell_type": "code",
   "execution_count": 18,
   "id": "18c4f5b2-352c-44cb-8a20-5fadc7e492da",
   "metadata": {},
   "outputs": [],
   "source": [
    "# skip first row \n",
    "gtrends = pd.read_csv(\n",
    "    r'/Users/davidscheider/anaconda_projects/Bitcoin Analytics/02 Data/Original Data/multiTimeline.csv',\n",
    "    skiprows=1\n",
    ")"
   ]
  },
  {
   "cell_type": "code",
   "execution_count": 28,
   "id": "8266a7a1-824c-4143-a830-be140f81f334",
   "metadata": {},
   "outputs": [
    {
     "name": "stdout",
     "output_type": "stream",
     "text": [
      "            Volume\n",
      "Week              \n",
      "2020-09-27      11\n",
      "2020-10-04      11\n",
      "2020-10-11      11\n",
      "2020-10-18      16\n",
      "2020-10-25      17\n"
     ]
    }
   ],
   "source": [
    "print(gtrends.head())"
   ]
  },
  {
   "cell_type": "code",
   "execution_count": 37,
   "id": "8e2ab94e-1fd5-4c05-b707-e8ff704d2b55",
   "metadata": {},
   "outputs": [
    {
     "name": "stdout",
     "output_type": "stream",
     "text": [
      "Index(['Volume'], dtype='object')\n"
     ]
    }
   ],
   "source": [
    "print(gtrends.columns)"
   ]
  },
  {
   "cell_type": "code",
   "execution_count": 39,
   "id": "3dba611d-f419-4738-8151-b24fb2428815",
   "metadata": {},
   "outputs": [],
   "source": [
    "# Skip first row (\"Category: All categories\")\n",
    "gtrends = pd.read_csv(\n",
    "    r'/Users/davidscheider/anaconda_projects/Bitcoin Analytics/02 Data/Original Data/multiTimeline.csv',\n",
    "    skiprows=1,\n",
    "    sep=',',\n",
    "    engine='python'\n",
    ")"
   ]
  },
  {
   "cell_type": "code",
   "execution_count": 40,
   "id": "a83e24f4-4bb1-4af2-9ad6-5aa17b44f6ed",
   "metadata": {},
   "outputs": [
    {
     "name": "stdout",
     "output_type": "stream",
     "text": [
      "        Woche  Bitcoin: (Weltweit)\n",
      "0  2020-09-27                   11\n",
      "1  2020-10-04                   11\n",
      "2  2020-10-11                   11\n",
      "3  2020-10-18                   16\n",
      "4  2020-10-25                   17\n",
      "Index(['Woche', 'Bitcoin: (Weltweit)'], dtype='object')\n"
     ]
    }
   ],
   "source": [
    "print(gtrends.head())\n",
    "print(gtrends.columns)"
   ]
  },
  {
   "cell_type": "code",
   "execution_count": 42,
   "id": "b3211a03-447d-44a7-9fa3-3227b7d5871e",
   "metadata": {},
   "outputs": [
    {
     "name": "stdout",
     "output_type": "stream",
     "text": [
      "            Bitcoin\n",
      "Date               \n",
      "2020-09-27       11\n",
      "2020-10-04       11\n",
      "2020-10-11       11\n",
      "2020-10-18       16\n",
      "2020-10-25       17\n"
     ]
    }
   ],
   "source": [
    "print(gtrends.head())"
   ]
  },
  {
   "cell_type": "code",
   "execution_count": 51,
   "id": "86228975-aeb6-46ea-a014-d2a5519e9845",
   "metadata": {},
   "outputs": [
    {
     "name": "stdout",
     "output_type": "stream",
     "text": [
      "            Bitcoin\n",
      "Date               \n",
      "2020-09-27       11\n",
      "2020-10-04       11\n",
      "2020-10-11       11\n",
      "2020-10-18       16\n",
      "2020-10-25       17\n",
      "<class 'pandas.core.indexes.datetimes.DatetimeIndex'>\n"
     ]
    }
   ],
   "source": [
    "# set Index to 'Date'\n",
    "gtrends.index = pd.to_datetime(gtrends.index)\n",
    "\n",
    "# Check result\n",
    "print(gtrends.head())\n",
    "print(type(gtrends.index))"
   ]
  },
  {
   "cell_type": "code",
   "execution_count": 50,
   "id": "912d350e-4aad-4720-9b88-3b64e74934de",
   "metadata": {},
   "outputs": [],
   "source": [
    "# make chart daily\n",
    "gtrends_daily = gtrends.resample('D').ffill()"
   ]
  },
  {
   "cell_type": "code",
   "execution_count": 49,
   "id": "5f228f1c-06bc-4a6e-abae-31990839c40b",
   "metadata": {},
   "outputs": [
    {
     "data": {
      "image/png": "[encoded data removed]",
      "text/plain": [
       "<Figure size 1200x600 with 1 Axes>"
      ]
     },
     "metadata": {},
     "output_type": "display_data"
    }
   ],
   "source": [
    "# plot chart\n",
    "plt.figure(figsize=(12,6))\n",
    "plt.plot(gtrends_daily.index, gtrends_daily['Bitcoin'], color='blue', linestyle='-', marker='', label='Google Trends: Bitcoin')\n",
    "plt.title('Daily Google Search Interest for Bitcoin')\n",
    "plt.xlabel('Date')\n",
    "plt.ylabel('Search Interest (0-100)')\n",
    "plt.grid(True)\n",
    "plt.legend()\n",
    "plt.show()"
   ]
  },
  {
   "cell_type": "code",
   "execution_count": 52,
   "id": "d20c16e7-6bd3-4678-9ec2-be76219b69bc",
   "metadata": {},
   "outputs": [],
   "source": [
    "# export gtrends\n",
    "gtrends_daily.to_csv(\"/Users/davidscheider/anaconda_projects/Bitcoin Analytics/02 Data/Prepared Data/gtrends_clean.csv\", index=False)"
   ]
  }
 ],
 "metadata": {
  "kernelspec": {
   "display_name": "Python [conda env:base] *",
   "language": "python",
   "name": "conda-base-py"
  },
  "language_info": {
   "codemirror_mode": {
    "name": "ipython",
    "version": 3
   },
   "file_extension": ".py",
   "mimetype": "text/x-python",
   "name": "python",
   "nbconvert_exporter": "python",
   "pygments_lexer": "ipython3",
   "version": "3.12.7"
  }
 },
 "nbformat": 4,
 "nbformat_minor": 5
}
